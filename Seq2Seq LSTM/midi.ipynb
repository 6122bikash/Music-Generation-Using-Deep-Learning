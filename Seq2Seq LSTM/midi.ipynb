{
 "cells": [
  {
   "cell_type": "code",
   "execution_count": 3,
   "metadata": {},
   "outputs": [],
   "source": [
    "import pretty_midi\n",
    "import os\n",
    "import numpy as np"
   ]
  },
  {
   "cell_type": "code",
   "execution_count": 1,
   "metadata": {},
   "outputs": [],
   "source": [
    "def get_instruments_list(directories):\n",
    "    list_instrument=[]\n",
    "    for directory in directories:\n",
    "        songs=[directory+'/'+filename for filename in os.listdir(directory)]\n",
    "        for song in songs:\n",
    "            try:\n",
    "                midi_data=pretty_midi.PrettyMIDI(song)\n",
    "            except:\n",
    "                pass\n",
    "            for instrument in midi_data.instruments:\n",
    "                if instrument not in list_instrument:\n",
    "                    list_instrument.append(instrument)\n",
    "    return list_instrument"
   ]
  },
  {
   "cell_type": "code",
   "execution_count": 3,
   "metadata": {},
   "outputs": [],
   "source": [
    "def midi_datasets_to_samples(directories,sampling_frequency,save_at='sample.npy'):\n",
    "    samples=[]\n",
    "    start_pitch_index=16\n",
    "    end_pitch_index=112\n",
    "    n_vocab=end_pitch_index-start_pitch_index\n",
    "    for directory in directories:\n",
    "        print(directory)\n",
    "        songs=[directory+'/'+filename for filename in os.listdir(directory)]\n",
    "        for song in songs:\n",
    "            print(song)\n",
    "            try:\n",
    "                midi_data=pretty_midi.PrettyMIDI(song)\n",
    "            except:\n",
    "                pass\n",
    "            piano_roll=midi_data.get_piano_roll(fs=sampling_frequency,times=None).T\n",
    "            sample=piano_roll[0:96*int(piano_roll.shape[0]/96),start_pitch_index:end_pitch_index]\n",
    "            samples=samples+[sample]  #append is computationally faster than concatention so uing list append instead of numpy concatenation\n",
    "            \n",
    "    \n",
    "    samples=np.concatenate(samples,axis=0)\n",
    "    samples=samples.reshape(samples.shape[0]//96,96,96)\n",
    "    samples.astype(np.int8)\n",
    "    np.save(save_at,samples)    \n",
    "    return samples\n"
   ]
  },
  {
   "cell_type": "code",
   "execution_count": null,
   "metadata": {},
   "outputs": [],
   "source": [
    "def samples_to_midi(samples,program=0,fs=50):\n",
    "    #reference:https://github.com/craffel/pretty-midi/blob/master/examples/reverse_pianoroll.py\n",
    "    piano_roll=samples.reshape(-1,96).T\n",
    "    notes,frames = piano_roll.shape\n",
    "    pm = pretty_midi.PrettyMIDI()\n",
    "    instrument = pretty_midi.Instrument(program=program)\n",
    "\n",
    "    # pad 1 column of zeros so we can acknowledge inital and ending events\n",
    "    piano_roll = np.pad(piano_roll, [(0, 0), (1, 1)], 'constant')\n",
    "\n",
    "    # use changes in velocities to find note on / note off events\n",
    "    velocity_changes = np.nonzero(np.diff(piano_roll).T)\n",
    "\n",
    "    # keep track on velocities and note on times\n",
    "    prev_velocities = np.zeros(notes, dtype=np.int)\n",
    "    note_on_time = np.zeros(notes)\n",
    "\n",
    "    for time, note in zip(*velocity_changes):\n",
    "        # use time + 1 because of padding above\n",
    "        velocity = piano_roll[note, time + 1]\n",
    "        time = time / fs\n",
    "        if velocity > 0:\n",
    "            if prev_velocities[note] == 0:\n",
    "                note_on_time[note] = time\n",
    "                prev_velocities[note] = velocity\n",
    "        else:\n",
    "            pm_note = pretty_midi.Note(\n",
    "                velocity=prev_velocities[note],\n",
    "                pitch=note,\n",
    "                start=note_on_time[note],\n",
    "                end=time)\n",
    "            instrument.notes.append(pm_note)\n",
    "            prev_velocities[note] = 0\n",
    "    pm.instruments.append(instrument)\n",
    "    return pm"
   ]
  }
 ],
 "metadata": {
  "kernelspec": {
   "display_name": "Python 3",
   "language": "python",
   "name": "python3"
  },
  "language_info": {
   "codemirror_mode": {
    "name": "ipython",
    "version": 3
   },
   "file_extension": ".py",
   "mimetype": "text/x-python",
   "name": "python",
   "nbconvert_exporter": "python",
   "pygments_lexer": "ipython3",
   "version": "3.7.4"
  }
 },
 "nbformat": 4,
 "nbformat_minor": 2
}
